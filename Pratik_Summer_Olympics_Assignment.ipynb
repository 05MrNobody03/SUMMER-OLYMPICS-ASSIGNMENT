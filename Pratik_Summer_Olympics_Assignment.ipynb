{
  "nbformat": 4,
  "nbformat_minor": 0,
  "metadata": {
    "colab": {
      "name": "Pratik-Summer-Olympics-Assignment.ipynb",
      "provenance": [],
      "collapsed_sections": []
    },
    "kernelspec": {
      "name": "python3",
      "display_name": "Python 3"
    },
    "language_info": {
      "name": "python"
    }
  },
  "cells": [
    {
      "cell_type": "markdown",
      "metadata": {
        "id": "G2X9PN-pyeEo"
      },
      "source": [
        "# **** WELCOME TO THE SUMMER OLYMPICS ASSIGNMENT ****\n",
        "## **** ANALYSIS OF THE SUMMER OLYMPICS DATASET ****\n",
        " \n",
        "\n",
        "---\n",
        "\n",
        "\n",
        "# PROJECT UNDER: SKILL INDIA INTERNSHIP\n",
        "# PROVIDED BY: ELITE TECHNO GROUP\n",
        "\n",
        "---\n",
        "\n",
        "##DESCRIPTION:\n",
        "\n",
        "-> This file conatins 8 Questions.\n",
        "\n",
        "-> Solution to the Questions are present in the cell beneath each question.\n",
        "\n",
        "-> Each of the solution is explained using comment beside the specific part of the code.\n",
        "\n",
        "-> To start with the Questions and Solutions, Please upload the summer.csv file to google colab.\n",
        "\n",
        "---\n",
        "\n",
        "\n",
        "## ABOUT ME:\n",
        "\n",
        "-> **NAME: PRATIK THOMBRE**\n",
        "\n",
        "-> **COLLEGE: GOVERNMENT COLLEGE OF ENGINEERING, AURANGABAD (GECA)**\n",
        "\n",
        "-> **BRANCH : ELECTRONICS AND TELECOMMUNICATION (ENTC)**\n",
        "\n",
        "-> **INTEREST : DATA SCIENCE, IOT, AI, C PROGRAMMING, PROBLEM SOLVING, MUSIC.**\n",
        "\n",
        "-> **LINKED IN PROFILE: https://www.linkedin.com/in/pratik-thombre-2071361a4**\n",
        "\n",
        "-> **GITHUB: https://github.com/05MrNobody03**\n",
        "\n",
        "--- \n",
        "\n",
        "# **LET THE HUNT FOR SOLUTION BEGIN**"
      ]
    },
    {
      "cell_type": "markdown",
      "metadata": {
        "id": "dx0qeJPN0_fT"
      },
      "source": [
        "# Importing the required libraries."
      ]
    },
    {
      "cell_type": "code",
      "metadata": {
        "id": "wJZ9DVGZdlxr"
      },
      "source": [
        "import pandas as pd\n",
        "import numpy as np\n",
        "import matplotlib.pyplot as mpl"
      ],
      "execution_count": null,
      "outputs": []
    },
    {
      "cell_type": "markdown",
      "metadata": {
        "id": "glKnMxTa1KhO"
      },
      "source": [
        "# Reading the summer.csv file."
      ]
    },
    {
      "cell_type": "code",
      "metadata": {
        "id": "GplGQki4neX3"
      },
      "source": [
        "df=pd.read_csv(\"/content/summer.csv\")                               # the content of the file are saved as a DataFrame"
      ],
      "execution_count": null,
      "outputs": []
    },
    {
      "cell_type": "code",
      "metadata": {
        "id": "Agm-jNkmoatM",
        "colab": {
          "base_uri": "https://localhost:8080/",
          "height": 204
        },
        "outputId": "56acefb3-5b52-48db-ecfa-24e308f75cf1"
      },
      "source": [
        "df.head()                                                           # this shows the top 5 entities present in the DataFrame"
      ],
      "execution_count": null,
      "outputs": [
        {
          "output_type": "execute_result",
          "data": {
            "text/html": [
              "<div>\n",
              "<style scoped>\n",
              "    .dataframe tbody tr th:only-of-type {\n",
              "        vertical-align: middle;\n",
              "    }\n",
              "\n",
              "    .dataframe tbody tr th {\n",
              "        vertical-align: top;\n",
              "    }\n",
              "\n",
              "    .dataframe thead th {\n",
              "        text-align: right;\n",
              "    }\n",
              "</style>\n",
              "<table border=\"1\" class=\"dataframe\">\n",
              "  <thead>\n",
              "    <tr style=\"text-align: right;\">\n",
              "      <th></th>\n",
              "      <th>Year</th>\n",
              "      <th>City</th>\n",
              "      <th>Sport</th>\n",
              "      <th>Discipline</th>\n",
              "      <th>Athlete</th>\n",
              "      <th>Country</th>\n",
              "      <th>Gender</th>\n",
              "      <th>Event</th>\n",
              "      <th>Medal</th>\n",
              "    </tr>\n",
              "  </thead>\n",
              "  <tbody>\n",
              "    <tr>\n",
              "      <th>0</th>\n",
              "      <td>1896</td>\n",
              "      <td>Athens</td>\n",
              "      <td>Aquatics</td>\n",
              "      <td>Swimming</td>\n",
              "      <td>HAJOS, Alfred</td>\n",
              "      <td>HUN</td>\n",
              "      <td>Men</td>\n",
              "      <td>100M Freestyle</td>\n",
              "      <td>Gold</td>\n",
              "    </tr>\n",
              "    <tr>\n",
              "      <th>1</th>\n",
              "      <td>1896</td>\n",
              "      <td>Athens</td>\n",
              "      <td>Aquatics</td>\n",
              "      <td>Swimming</td>\n",
              "      <td>HERSCHMANN, Otto</td>\n",
              "      <td>AUT</td>\n",
              "      <td>Men</td>\n",
              "      <td>100M Freestyle</td>\n",
              "      <td>Silver</td>\n",
              "    </tr>\n",
              "    <tr>\n",
              "      <th>2</th>\n",
              "      <td>1896</td>\n",
              "      <td>Athens</td>\n",
              "      <td>Aquatics</td>\n",
              "      <td>Swimming</td>\n",
              "      <td>DRIVAS, Dimitrios</td>\n",
              "      <td>GRE</td>\n",
              "      <td>Men</td>\n",
              "      <td>100M Freestyle For Sailors</td>\n",
              "      <td>Bronze</td>\n",
              "    </tr>\n",
              "    <tr>\n",
              "      <th>3</th>\n",
              "      <td>1896</td>\n",
              "      <td>Athens</td>\n",
              "      <td>Aquatics</td>\n",
              "      <td>Swimming</td>\n",
              "      <td>MALOKINIS, Ioannis</td>\n",
              "      <td>GRE</td>\n",
              "      <td>Men</td>\n",
              "      <td>100M Freestyle For Sailors</td>\n",
              "      <td>Gold</td>\n",
              "    </tr>\n",
              "    <tr>\n",
              "      <th>4</th>\n",
              "      <td>1896</td>\n",
              "      <td>Athens</td>\n",
              "      <td>Aquatics</td>\n",
              "      <td>Swimming</td>\n",
              "      <td>CHASAPIS, Spiridon</td>\n",
              "      <td>GRE</td>\n",
              "      <td>Men</td>\n",
              "      <td>100M Freestyle For Sailors</td>\n",
              "      <td>Silver</td>\n",
              "    </tr>\n",
              "  </tbody>\n",
              "</table>\n",
              "</div>"
            ],
            "text/plain": [
              "   Year    City     Sport  ... Gender                       Event   Medal\n",
              "0  1896  Athens  Aquatics  ...    Men              100M Freestyle    Gold\n",
              "1  1896  Athens  Aquatics  ...    Men              100M Freestyle  Silver\n",
              "2  1896  Athens  Aquatics  ...    Men  100M Freestyle For Sailors  Bronze\n",
              "3  1896  Athens  Aquatics  ...    Men  100M Freestyle For Sailors    Gold\n",
              "4  1896  Athens  Aquatics  ...    Men  100M Freestyle For Sailors  Silver\n",
              "\n",
              "[5 rows x 9 columns]"
            ]
          },
          "metadata": {},
          "execution_count": 3
        }
      ]
    },
    {
      "cell_type": "markdown",
      "metadata": {
        "id": "5FxV0kF9uSfV"
      },
      "source": [
        "#1. In how many cities Summer Olympics is held so far?"
      ]
    },
    {
      "cell_type": "code",
      "metadata": {
        "colab": {
          "base_uri": "https://localhost:8080/"
        },
        "id": "7attHKNmqPz6",
        "outputId": "9a80bcea-317a-4634-f1fa-ee6ef1f36454"
      },
      "source": [
        "print('The Total number of unique cities that hosted Summer Olympics is:',len(df[\"City\"].unique())) \n",
        "\n",
        "# To know the unique values present in the City column we use unique() function \n",
        "# The len function returns the length of the object passed to the function. \n",
        "# Here it will return the total number of unique cities in City column \n",
        "\n",
        "print('\\nThey are as follows:\\n\\n',df['City'].unique())\n",
        "\n",
        "# these are the Cities where Olympics was held at least once."
      ],
      "execution_count": null,
      "outputs": [
        {
          "output_type": "stream",
          "name": "stdout",
          "text": [
            "The Total number of unique cities that hosted Summer Olympics is: 22\n",
            "\n",
            "They are as follows:\n",
            "\n",
            " ['Athens' 'Paris' 'St Louis' 'London' 'Stockholm' 'Antwerp' 'Amsterdam'\n",
            " 'Los Angeles' 'Berlin' 'Helsinki' 'Melbourne / Stockholm' 'Rome' 'Tokyo'\n",
            " 'Mexico' 'Munich' 'Montreal' 'Moscow' 'Seoul' 'Barcelona' 'Atlanta'\n",
            " 'Sydney' 'Beijing']\n"
          ]
        }
      ]
    },
    {
      "cell_type": "markdown",
      "metadata": {
        "id": "6RCqRa0GuXMT"
      },
      "source": [
        "#2. Which sport is having most number of Gold Medals so far? (Top 5)"
      ]
    },
    {
      "cell_type": "code",
      "metadata": {
        "colab": {
          "base_uri": "https://localhost:8080/",
          "height": 465
        },
        "id": "QEKWeXmIuel1",
        "outputId": "fa795bc3-ef16-4d05-f938-5967b356a6c8"
      },
      "source": [
        "#Q2\n",
        "\n",
        "ab=df[df['Medal']==\"Gold\"]                                                      # the enteries form the 'df' which have Medal as Gold are saved into 'ab'\n",
        "data=[]                                                                         # Empty list is created to save the enteries.\n",
        "for Sports in ab['Discipline'].unique():\n",
        "  data.append([Sports,len(ab[ab['Discipline']==Sports])])                       # the enteries from 'ab' is added to 'data'\n",
        "\n",
        "data=pd.DataFrame(data)                                                         # the list is converted into DataFrame\n",
        "\n",
        "data=data.sort_values(by= 1, ascending=False)                                   # the values in DataFrame are sorted into descending order\n",
        "\n",
        "print('The top 5 Games with most Gold Medals so far is as follows: ')           \n",
        "print(data.head())                                                              # printing top 5 enteries from data.\n",
        "data=data.head()\n",
        "ax=data.plot(x=0,kind='bar')                                                    # ploting the graph      \n",
        "ax.set(xlabel=\"Discipline\")                                                     # labeling the axis as 'Discipline'"
      ],
      "execution_count": null,
      "outputs": [
        {
          "output_type": "stream",
          "name": "stdout",
          "text": [
            "The top 5 Games with most Gold Medals so far is as follows: \n",
            "              0     1\n",
            "1     Athletics  1215\n",
            "0      Swimming   901\n",
            "19       Rowing   890\n",
            "5   Artistic G.   752\n",
            "4       Fencing   552\n"
          ]
        },
        {
          "output_type": "execute_result",
          "data": {
            "text/plain": [
              "[Text(0.5, 0, 'Discipline')]"
            ]
          },
          "metadata": {},
          "execution_count": 63
        },
        {
          "output_type": "display_data",
          "data": {
            "image/png": "[encoded data removed]",
            "text/plain": [
              "<Figure size 432x288 with 1 Axes>"
            ]
          },
          "metadata": {
            "needs_background": "light"
          }
        }
      ]
    },
    {
      "cell_type": "markdown",
      "metadata": {
        "id": "c3xo5wR-uyyf"
      },
      "source": [
        "#3. Which sport is having most number of medals so far? (Top 5)"
      ]
    },
    {
      "cell_type": "code",
      "metadata": {
        "colab": {
          "base_uri": "https://localhost:8080/",
          "height": 465
        },
        "id": "DUW5VGVLu2Su",
        "outputId": "80077160-a7eb-4275-b6b3-2b883a884944"
      },
      "source": [
        "#Q3\n",
        "dataGroup = df.groupby('Discipline')['Medal'].count().nlargest(5)\n",
        "print(dataGroup)\n",
        "dataGroup.plot(kind='bar')"
      ],
      "execution_count": null,
      "outputs": [
        {
          "output_type": "stream",
          "name": "stdout",
          "text": [
            "Discipline\n",
            "Athletics      3638\n",
            "Rowing         2667\n",
            "Swimming       2628\n",
            "Artistic G.    2103\n",
            "Fencing        1613\n",
            "Name: Medal, dtype: int64\n"
          ]
        },
        {
          "output_type": "execute_result",
          "data": {
            "text/plain": [
              "<matplotlib.axes._subplots.AxesSubplot at 0x7fdcd2cb8b10>"
            ]
          },
          "metadata": {},
          "execution_count": 14
        },
        {
          "output_type": "display_data",
          "data": {
            "image/png": "[encoded data removed]",
            "text/plain": [
              "<Figure size 432x288 with 1 Axes>"
            ]
          },
          "metadata": {
            "needs_background": "light"
          }
        }
      ]
    },
    {
      "cell_type": "markdown",
      "metadata": {
        "id": "ojG0H076vNG4"
      },
      "source": [
        "#4. Which player has won most number of medals? (Top 5)"
      ]
    },
    {
      "cell_type": "code",
      "metadata": {
        "colab": {
          "base_uri": "https://localhost:8080/",
          "height": 531
        },
        "id": "ALU_9z9OvVFn",
        "outputId": "40dbf6a8-08a6-4081-a1c0-a1587e64e27f"
      },
      "source": [
        "#Q4\n",
        "playerGroup = df.groupby('Athlete')['Medal']                                    # Grouping the data based on Athlete and Medal columns\n",
        "info=playerGroup.count().nlargest(5)                                            # counting the medals player won.\n",
        "print(info)                                                                     # printing the names of top 5 Athletes with max number of medals.   \n",
        "playerGroup.count().nlargest(5).plot(kind='bar')                                # ploting the graph"
      ],
      "execution_count": null,
      "outputs": [
        {
          "output_type": "stream",
          "name": "stdout",
          "text": [
            "Athlete\n",
            "PHELPS, Michael         22\n",
            "LATYNINA, Larisa        18\n",
            "ANDRIANOV, Nikolay      15\n",
            "MANGIAROTTI, Edoardo    13\n",
            "ONO, Takashi            13\n",
            "Name: Medal, dtype: int64\n"
          ]
        },
        {
          "output_type": "execute_result",
          "data": {
            "text/plain": [
              "<matplotlib.axes._subplots.AxesSubplot at 0x7fdca9fcbed0>"
            ]
          },
          "metadata": {},
          "execution_count": 65
        },
        {
          "output_type": "display_data",
          "data": {
            "image/png": "[encoded data removed]",
            "text/plain": [
              "<Figure size 432x288 with 1 Axes>"
            ]
          },
          "metadata": {
            "needs_background": "light"
          }
        }
      ]
    },
    {
      "cell_type": "markdown",
      "metadata": {
        "id": "JHCvL-ecvltl"
      },
      "source": [
        "#5. Which player has won most number Gold Medals of medals? (Top 5)"
      ]
    },
    {
      "cell_type": "code",
      "metadata": {
        "colab": {
          "base_uri": "https://localhost:8080/",
          "height": 480
        },
        "id": "jYIMI8Prvre1",
        "outputId": "6a948723-3149-42d7-9dd2-afac51a5d98e"
      },
      "source": [
        "#Q5\n",
        "EventGroup = df.groupby(['Athlete','Medal'], as_index=False)['Event'].count()   # grouping based on Athlete and Medal columns                                \n",
        "ab=EventGroup[EventGroup['Medal'] == 'Gold'].nlargest(5,'Event')                # aranging data with Medal == Gold in descending order\n",
        "print(ab)                                                                       # printing the top 5 data\n",
        "ab.plot(x='Athlete',kind='bar', yticks=range(3,21,3))                           # ploting the top 5 data with Medal == Gold\n",
        "\n"
      ],
      "execution_count": null,
      "outputs": [
        {
          "output_type": "stream",
          "name": "stdout",
          "text": [
            "                Athlete Medal  Event\n",
            "18383   PHELPS, Michael  Gold     18\n",
            "13061  LATYNINA, Larisa  Gold      9\n",
            "13465       LEWIS, Carl  Gold      9\n",
            "17060      NURMI, Paavo  Gold      9\n",
            "22145       SPITZ, Mark  Gold      9\n"
          ]
        },
        {
          "output_type": "execute_result",
          "data": {
            "text/plain": [
              "<matplotlib.axes._subplots.AxesSubplot at 0x7fdca9e1bd10>"
            ]
          },
          "metadata": {},
          "execution_count": 67
        },
        {
          "output_type": "display_data",
          "data": {
            "image/png": "[encoded data removed]",
            "text/plain": [
              "<Figure size 432x288 with 1 Axes>"
            ]
          },
          "metadata": {
            "needs_background": "light"
          }
        }
      ]
    },
    {
      "cell_type": "markdown",
      "metadata": {
        "id": "YRZtLcuYv2De"
      },
      "source": [
        "#6. In which year India won first Gold Medal in Summer Olympics?"
      ]
    },
    {
      "cell_type": "code",
      "metadata": {
        "colab": {
          "base_uri": "https://localhost:8080/"
        },
        "id": "2xLu26jL_re3",
        "outputId": "99c16730-ec92-4914-ea2a-444ddc9e5574"
      },
      "source": [
        "# Q6\n",
        "country=df[df['Country']=='IND']                                                # to save the enteries with Country as India\n",
        "med=country[country['Medal']=='Gold']                                           # saving the data with Medal == Gold      \n",
        "med=med.head(1)                                                                 # finding the first entry with gold medal\n",
        "year=int(med['Year'])                                                           # saving that year in another variable\n",
        "print('India won its First Gold Medal in year:',year)                           # printing the answer"
      ],
      "execution_count": null,
      "outputs": [
        {
          "output_type": "stream",
          "name": "stdout",
          "text": [
            "India won its First Gold Medal in year: 1928\n"
          ]
        }
      ]
    },
    {
      "cell_type": "markdown",
      "metadata": {
        "id": "BSpxo7srwEX_"
      },
      "source": [
        "#7. Which event is most popular in terms on number of players? (Top 5)"
      ]
    },
    {
      "cell_type": "code",
      "metadata": {
        "colab": {
          "base_uri": "https://localhost:8080/",
          "height": 503
        },
        "id": "SAdNlwGRwPgs",
        "outputId": "1bb7fcae-a35f-480f-f7b4-336d41b2f6fa"
      },
      "source": [
        "#Q7\n",
        "EventGroup = df.groupby('Event')['Athlete']                                     # grouping the data based on athlete and events\n",
        "\n",
        "data=EventGroup.count().nlargest(5)                                             # arranging the data into descending order\n",
        "print(data)                                                                     # printing the data so as to know the exact numbers\n",
        "EventGroup.count().nlargest(5).plot(kind='bar')                                 # ploting the data"
      ],
      "execution_count": null,
      "outputs": [
        {
          "output_type": "stream",
          "name": "stdout",
          "text": [
            "Event\n",
            "Football            1497\n",
            "Hockey              1422\n",
            "Team Competition    1147\n",
            "Basketball          1012\n",
            "Handball             973\n",
            "Name: Athlete, dtype: int64\n"
          ]
        },
        {
          "output_type": "execute_result",
          "data": {
            "text/plain": [
              "<matplotlib.axes._subplots.AxesSubplot at 0x7fdca9d4f450>"
            ]
          },
          "metadata": {},
          "execution_count": 69
        },
        {
          "output_type": "display_data",
          "data": {
            "image/png": "[encoded data removed]",
            "text/plain": [
              "<Figure size 432x288 with 1 Axes>"
            ]
          },
          "metadata": {
            "needs_background": "light"
          }
        }
      ]
    },
    {
      "cell_type": "markdown",
      "metadata": {
        "id": "XlS6xRS1wUA5"
      },
      "source": [
        "#8. Which sport is having most female Gold Medalists? (Top 5)"
      ]
    },
    {
      "cell_type": "code",
      "metadata": {
        "colab": {
          "base_uri": "https://localhost:8080/",
          "height": 485
        },
        "id": "yROBfNV6wc1x",
        "outputId": "9992adf6-8dff-441b-84ad-8c6b0762d4d7"
      },
      "source": [
        "#Q8\n",
        "EventGroup = df.groupby(['Event', 'Gender', 'Medal'], as_index=False)['Athlete'].count()    # Grouping the data \n",
        "k = EventGroup[EventGroup['Gender'] == 'Women'].nlargest(20, columns=['Athlete'])           # sorting the data based on gender       \n",
        "num=k[k['Medal'] == 'Gold'].nlargest(5, columns=['Athlete'])                                # finding the top 5 sports\n",
        "print(num)                                                                                  # printing the data  \n",
        "k[k['Medal'] == 'Gold'].nlargest(5, columns=['Athlete']).plot(x='Event',kind='bar')         # ploting the data"
      ],
      "execution_count": null,
      "outputs": [
        {
          "output_type": "stream",
          "name": "stdout",
          "text": [
            "                 Event Gender Medal  Athlete\n",
            "2243        Volleyball  Women  Gold      156\n",
            "1627            Hockey  Women  Gold      144\n",
            "1603          Handball  Women  Gold      142\n",
            "2140  Team Competition  Women  Gold      126\n",
            "1317        Basketball  Women  Gold      120\n"
          ]
        },
        {
          "output_type": "execute_result",
          "data": {
            "text/plain": [
              "<matplotlib.axes._subplots.AxesSubplot at 0x7fdca9eb1b10>"
            ]
          },
          "metadata": {},
          "execution_count": 68
        },
        {
          "output_type": "display_data",
          "data": {
            "image/png": "[encoded data removed]",
            "text/plain": [
              "<Figure size 432x288 with 1 Axes>"
            ]
          },
          "metadata": {
            "needs_background": "light"
          }
        }
      ]
    },
    {
      "cell_type": "code",
      "metadata": {
        "id": "0d8l0x1Z-qBu"
      },
      "source": [
        ""
      ],
      "execution_count": null,
      "outputs": []
    }
  ]
}